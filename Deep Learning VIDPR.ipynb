{
 "cells": [
  {
   "cell_type": "markdown",
   "id": "45ded162",
   "metadata": {},
   "source": [
    "# Video Processing\n",
    "\n",
    "## Video Display"
   ]
  },
  {
   "cell_type": "code",
   "execution_count": 1,
   "id": "86856a37",
   "metadata": {},
   "outputs": [
    {
     "name": "stdout",
     "output_type": "stream",
     "text": [
      "Error: Could not open video.\n"
     ]
    }
   ],
   "source": [
    "import cv2\n",
    "import numpy as np\n",
    "\n",
    "cap1 = cv2.VideoCapture('video1.mp4')\n",
    "cap2 = cv2.VideoCapture('video2.mp4')\n",
    "\n",
    "if not cap1.isOpened() or not cap2.isOpened():\n",
    "    print(\"Error: Could not open video.\")\n",
    "    exit()\n",
    "\n",
    "while True:\n",
    "    ret1, frame1 = cap1.read()\n",
    "    ret2, frame2 = cap2.read()\n",
    "\n",
    "    if not ret1 or not ret2:\n",
    "        break\n",
    "\n",
    "    frame1 = cv2.resize(frame1, (640, 360))\n",
    "    frame2 = cv2.resize(frame2, (640, 360))\n",
    "\n",
    "    h_concat = np.hstack((frame1, frame2))\n",
    "\n",
    "    cv2.imshow('Concatenated Video', h_concat)\n",
    "\n",
    "    if cv2.waitKey(25) & 0xFF == ord('q'):\n",
    "        break\n",
    "\n",
    "cap1.release()\n",
    "cap2.release()\n",
    "cv2.destroyAllWindows()"
   ]
  },
  {
   "cell_type": "markdown",
   "id": "76e4d2c4",
   "metadata": {},
   "source": [
    "# Vertical Stacking"
   ]
  },
  {
   "cell_type": "code",
   "execution_count": null,
   "id": "a47aeb11",
   "metadata": {},
   "outputs": [],
   "source": [
    "import cv2\n",
    "import numpy as np\n",
    "\n",
    "cap1 = cv2.VideoCapture('video1.mp4')\n",
    "cap2 = cv2.VideoCapture('video2.mp4')\n",
    "\n",
    "if not cap1.isOpened() or not cap2.isOpened():\n",
    "    print(\"Error: Could not open video.\")\n",
    "    exit()\n",
    "\n",
    "while True:\n",
    "    ret1, frame1 = cap1.read()\n",
    "    ret2, frame2 = cap2.read()\n",
    "\n",
    "    if not ret1 or not ret2:\n",
    "        break\n",
    "\n",
    "    frame1 = cv2.resize(frame1, (640, 360))\n",
    "    frame2 = cv2.resize(frame2, (640, 360))\n",
    "\n",
    "    h_concat = np.vstack((frame1, frame2))\n",
    "\n",
    "    cv2.imshow('Concatenated Video', v_concat)\n",
    "\n",
    "    if cv2.waitKey(25) & 0xFF == ord('q'):\n",
    "        break\n",
    "\n",
    "cap1.release()\n",
    "cap2.release()\n",
    "cv2.destroyAllWindows()"
   ]
  },
  {
   "cell_type": "markdown",
   "id": "a4142664",
   "metadata": {},
   "source": [
    "## Horizontal stacking"
   ]
  },
  {
   "cell_type": "code",
   "execution_count": null,
   "id": "4c14db98",
   "metadata": {},
   "outputs": [],
   "source": [
    "import cv2\n",
    "import numpy as np\n",
    "\n",
    "cap1 = cv2.VideoCapture('video1.mp4')\n",
    "cap2 = cv2.VideoCapture('video2.mp4')\n",
    "\n",
    "if not cap1.isOpened() or not cap2.isOpened():\n",
    "    print(\"Error: Could not open video.\")\n",
    "    exit()\n",
    "\n",
    "while True:\n",
    "    ret1, frame1 = cap1.read()\n",
    "    ret2, frame2 = cap2.read()\n",
    "\n",
    "    if not ret1 or not ret2:\n",
    "        break\n",
    "\n",
    "    frame1 = cv2.resize(frame1, (640, 360))\n",
    "    frame2 = cv2.resize(frame2, (640, 360))\n",
    "\n",
    "    h_concat = np.hstack((frame1, frame2))\n",
    "\n",
    "    cv2.imshow('Concatenated Video', h_concat)\n",
    "\n",
    "    if cv2.waitKey(25) & 0xFF == ord('q'):\n",
    "        break\n",
    "\n",
    "cap1.release()\n",
    "cap2.release()\n",
    "cv2.destroyAllWindows()"
   ]
  },
  {
   "cell_type": "markdown",
   "id": "7d94d973",
   "metadata": {},
   "source": [
    "## FPS"
   ]
  },
  {
   "cell_type": "code",
   "execution_count": null,
   "id": "64857eab",
   "metadata": {},
   "outputs": [],
   "source": [
    "import cv2\n",
    "import time\n",
    "\n",
    "cap = cv2.VideoCapture(0) #for camera\n",
    "#cap = cv2.VideoCapture('C:/Users/GAGANKUMAR/OneDrive/Desktop/Infosys/Task2/demo/sample.avi') #for saved video\n",
    "\n",
    "if not cap.isOpened():\n",
    "    print(\"Error: Could not open the video camera.\")\n",
    "    exit()\n",
    "\n",
    "fourcc = cv2.VideoWriter_fourcc(*'XVID')\n",
    "out = cv2.VideoWriter('output1.avi', fourcc, 20.0, (640, 480))\n",
    "\n",
    "prev_frame_time = 0\n",
    "new_frame_time = 0\n",
    "\n",
    "while True:\n",
    "    new_frame_time = time.time()\n",
    "    \n",
    "    ret, frame = cap.read()\n",
    "    if not ret:\n",
    "        print(\"Error: Failed to capture frame.\")\n",
    "        break\n",
    "\n",
    "    out.write(frame)\n",
    "\n",
    "    fps = 1 / (new_frame_time - prev_frame_time)\n",
    "    prev_frame_time = new_frame_time\n",
    "\n",
    "    cv2.putText(frame, f\"FPS: {int(fps)}\", (10, 30), cv2.FONT_HERSHEY_SIMPLEX, 1, (0, 255, 0), 2, cv2.LINE_AA)\n",
    "\n",
    "    cv2.imshow('Webcam', frame)\n",
    "\n",
    "    print(f\"FPS: {int(fps)}\")\n",
    "\n",
    "    if cv2.waitKey(1) & 0xFF == ord('q'):\n",
    "        break\n",
    "\n",
    "cap.release()\n",
    "out.release()\n",
    "cv2.destroyAllWindows()"
   ]
  },
  {
   "cell_type": "markdown",
   "id": "681aff84",
   "metadata": {},
   "source": [
    "## Save the Video"
   ]
  },
  {
   "cell_type": "code",
   "execution_count": null,
   "id": "8e204113",
   "metadata": {},
   "outputs": [],
   "source": [
    "import cv2\n",
    "\n",
    "cap = cv2.VideoCapture(0)\n",
    "#cap = cv2.VideoCapture('C:/Users/GAGANKUMAR/OneDrive/Desktop/Infosys/Task2/demo/sample.avi')\n",
    "\n",
    "if not cap.isOpened():\n",
    "    print(\"Error: Could not open the video camera.\")\n",
    "    exit()\n",
    "\n",
    "fourcc = cv2.VideoWriter_fourcc(*'XVID')\n",
    "out = cv2.VideoWriter('output.avi', fourcc, 20.0, (640, 480))\n",
    "\n",
    "while True:\n",
    "    ret, frame = cap.read()\n",
    "    if not ret:\n",
    "        print(\"Error: Failed to capture frame.\")\n",
    "        break\n",
    "\n",
    "    out.write(frame)\n",
    "\n",
    "    cv2.imshow('Webcam', frame)\n",
    "\n",
    "    if cv2.waitKey(1) & 0xFF == ord('q'):\n",
    "        break\n",
    "\n",
    "cap.release()\n",
    "out.release()\n",
    "cv2.destroyAllWindows()"
   ]
  },
  {
   "cell_type": "markdown",
   "id": "eae7afc8",
   "metadata": {},
   "source": [
    "## Streaming the video"
   ]
  },
  {
   "cell_type": "code",
   "execution_count": null,
   "id": "0955f6aa",
   "metadata": {},
   "outputs": [],
   "source": [
    "import cv2\n",
    "\n",
    "video_sources = [\n",
    "    'video1.mp4',\n",
    "    'video2.mp4',\n",
    "    'video3.mp4'\n",
    "]\n",
    "\n",
    "caps = [cv2.VideoCapture(src) for src in video_sources]\n",
    "\n",
    "for i, cap in enumerate(caps):\n",
    "    if not cap.isOpened():\n",
    "        print(f\"Error: Could not open video stream {i+1} from source: {video_sources[i]}\")\n",
    "        exit()\n",
    "\n",
    "while True:\n",
    "    frames = [cap.read()[1] for cap in caps]\n",
    "\n",
    "    if any(frame is None for frame in frames):\n",
    "        print(\"Error: Could not read one or more frames.\")\n",
    "        break\n",
    "\n",
    "    for i, frame in enumerate(frames):\n",
    "        window_name = f'Video {i+1}'\n",
    "        cv2.imshow(window_name, frame)\n",
    "\n",
    "    if cv2.waitKey(1) & 0xFF == ord('q'):\n",
    "        break\n",
    "\n",
    "for cap in caps:\n",
    "    cap.release()\n",
    "cv2.destroyAllWindows()"
   ]
  }
 ],
 "metadata": {
  "kernelspec": {
   "display_name": "Python 3 (ipykernel)",
   "language": "python",
   "name": "python3"
  },
  "language_info": {
   "codemirror_mode": {
    "name": "ipython",
    "version": 3
   },
   "file_extension": ".py",
   "mimetype": "text/x-python",
   "name": "python",
   "nbconvert_exporter": "python",
   "pygments_lexer": "ipython3",
   "version": "3.9.12"
  }
 },
 "nbformat": 4,
 "nbformat_minor": 5
}
